{
 "cells": [
  {
   "cell_type": "code",
   "execution_count": 23,
   "metadata": {},
   "outputs": [],
   "source": [
    "import os\n",
    "import pandas as pd\n",
    "import tensorflow as tf\n",
    "from tensorflow import keras\n",
    "from keras.utils import plot_model\n",
    "import matplotlib.pyplot as plt"
   ]
  },
  {
   "cell_type": "code",
   "execution_count": 24,
   "metadata": {},
   "outputs": [],
   "source": [
    "class Evaluator:\n",
    "    def __init__(self, config):\n",
    "        self.config = config\n",
    "        self.model = None\n",
    "    \n",
    "    def load_model(self):\n",
    "        self.model = keras.models.load_model(os.path.expanduser(self.config['model_path']))\n",
    "\n",
    "    def plot_model(self):\n",
    "        plot_model(self.model, to_file=os.path.expanduser(self.config['plot_path']), show_shapes=True, show_layer_names=True, show_layer_activations=True)\n",
    "\n",
    "    def evaluate(self):\n",
    "        self.load_model()\n",
    "        self.plot_model()"
   ]
  },
  {
   "cell_type": "code",
   "execution_count": 25,
   "metadata": {},
   "outputs": [
    {
     "name": "stdout",
     "output_type": "stream",
     "text": [
      "You must install pydot (`pip install pydot`) and install graphviz (see instructions at https://graphviz.gitlab.io/download/) for plot_model to work.\n"
     ]
    }
   ],
   "source": [
    "config = {\n",
    "    'model_path': R'~/Desktop/study/model/2tinvfp8_1m',\n",
    "    'plot_path': R'~/Desktop/study/results/plot_model/test.png'\n",
    "}\n",
    "\n",
    "evaluator = Evaluator(config)\n",
    "evaluator.evaluate()"
   ]
  }
 ],
 "metadata": {
  "kernelspec": {
   "display_name": "Python 3",
   "language": "python",
   "name": "python3"
  },
  "language_info": {
   "codemirror_mode": {
    "name": "ipython",
    "version": 3
   },
   "file_extension": ".py",
   "mimetype": "text/x-python",
   "name": "python",
   "nbconvert_exporter": "python",
   "pygments_lexer": "ipython3",
   "version": "3.11.4"
  }
 },
 "nbformat": 4,
 "nbformat_minor": 2
}
