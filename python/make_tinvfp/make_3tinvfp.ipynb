{
 "cells": [
  {
   "cell_type": "code",
   "execution_count": 9,
   "metadata": {
    "executionInfo": {
     "elapsed": 680,
     "status": "ok",
     "timestamp": 1708042512638,
     "user": {
      "displayName": "介川友喜",
      "userId": "17499639928451463634"
     },
     "user_tz": -540
    },
    "id": "x8v84w97gImk"
   },
   "outputs": [],
   "source": [
    "# ライブラリのインポート\n",
    "import pandas as pd\n",
    "import numpy as np\n",
    "from itertools import product"
   ]
  },
  {
   "cell_type": "code",
   "execution_count": 10,
   "metadata": {
    "executionInfo": {
     "elapsed": 368,
     "status": "ok",
     "timestamp": 1708042780975,
     "user": {
      "displayName": "介川友喜",
      "userId": "17499639928451463634"
     },
     "user_tz": -540
    },
    "id": "vYQEnfgAgKmJ"
   },
   "outputs": [],
   "source": [
    "# 入力ファイル名\n",
    "input_file = R'C:/Users/sukegawa/Desktop/study/datasets/invfp/invfp_8.csv'\n",
    "# 出力ファイル名\n",
    "output_file = R'C:/Users/sukegawa/Desktop/study/datasets/tinvfp/3tinvfp_8.csv'"
   ]
  },
  {
   "cell_type": "code",
   "execution_count": 11,
   "metadata": {
    "executionInfo": {
     "elapsed": 309,
     "status": "ok",
     "timestamp": 1708042782817,
     "user": {
      "displayName": "介川友喜",
      "userId": "17499639928451463634"
     },
     "user_tz": -540
    },
    "id": "MUIAa3tngM4Q"
   },
   "outputs": [],
   "source": [
    "# データの読み込み\n",
    "data = pd.read_csv(input_file)"
   ]
  },
  {
   "cell_type": "code",
   "execution_count": 12,
   "metadata": {
    "executionInfo": {
     "elapsed": 553,
     "status": "ok",
     "timestamp": 1708042786749,
     "user": {
      "displayName": "介川友喜",
      "userId": "17499639928451463634"
     },
     "user_tz": -540
    },
    "id": "YZkehVhagQf2"
   },
   "outputs": [
    {
     "name": "stdout",
     "output_type": "stream",
     "text": [
      "Processed chunks 0, 0, 0\n",
      "Processed chunks 0, 0, 1\n",
      "Processed chunks 0, 1, 1\n",
      "Processed chunks 1, 1, 1\n"
     ]
    }
   ],
   "source": [
    "# 閾値\n",
    "threshold = 20\n",
    "\n",
    "# チャンクサイズ\n",
    "chunk_size = 100\n",
    "\n",
    "# 変位と距離の計算を行う関数\n",
    "def calc_distance(x1, y1, x2, y2):\n",
    "    dx = x2 - x1\n",
    "    dy = y2 - y1\n",
    "    distance = np.sqrt(dx**2 + dy**2)\n",
    "    return distance, dx, dy\n",
    "\n",
    "# 3時点の協調位置指紋を作成する関数\n",
    "def make_3tinvfp(data1, data2, data3):\n",
    "    results = []\n",
    "\n",
    "    # 1→2点間,2→3点間の変位と距離を計算\n",
    "    for row1, row2, row3 in product(data1.values, data2.values, data3.values):\n",
    "        dist12, dx12, dy12 = calc_distance(row1[0], row1[1], row2[0], row2[1])\n",
    "        if dist12 > threshold:\n",
    "            continue\n",
    "        \n",
    "        dist23, dx23, dy23 = calc_distance(row2[0], row2[1], row3[0], row3[1])\n",
    "        if dist23 > threshold:\n",
    "            continue\n",
    "        \n",
    "        results.append({\n",
    "            'x': row1[0], 'y': row1[1],\n",
    "            'x_2': row2[0], 'y_2': row2[1],\n",
    "            'x_3': row3[0], 'y_3': row3[1],\n",
    "            'dx_2': dx12, 'dy_2': dy12, 'distance_2': dist12,\n",
    "            'dx_3': dx23, 'dy_3': dy23, 'distance_3': dist23\n",
    "        })\n",
    "    \n",
    "    return pd.DataFrame(results)\n",
    "\n",
    "# 結果をcsvファイルに書き込みする関数\n",
    "def chunked_processing(input_file, output_file, chunk_size):\n",
    "    chunks = []\n",
    "    for chunk in pd.read_csv(input_file, chunksize=chunk_size):\n",
    "        chunks.append(chunk[['x', 'y']])\n",
    "    \n",
    "    total_chunks = len(chunks)\n",
    "    \n",
    "    \n",
    "    first_chunk = True\n",
    "    for i in range(total_chunks):\n",
    "        for j in range(i, total_chunks):\n",
    "            for k in range(j, total_chunks):\n",
    "                result = make_3tinvfp(chunks[i], chunks[j], chunks[k])\n",
    "                if not result.empty:\n",
    "                    result.to_csv(output_file, mode='a', header=first_chunk, index=False)\n",
    "                    first_chunk = False\n",
    "                print(f\"Processed chunks {i}, {j}, {k}\")\n",
    "\n",
    "# 書き込み\n",
    "chunked_processing(input_file, output_file, chunk_size)\n"
   ]
  }
 ],
 "metadata": {
  "colab": {
   "authorship_tag": "ABX9TyP22b+ARsDcCQCsJP3d8UJ1",
   "provenance": []
  },
  "kernelspec": {
   "display_name": "Python 3 (ipykernel)",
   "language": "python",
   "name": "python3"
  },
  "language_info": {
   "codemirror_mode": {
    "name": "ipython",
    "version": 3
   },
   "file_extension": ".py",
   "mimetype": "text/x-python",
   "name": "python",
   "nbconvert_exporter": "python",
   "pygments_lexer": "ipython3",
   "version": "3.8.19"
  }
 },
 "nbformat": 4,
 "nbformat_minor": 4
}
