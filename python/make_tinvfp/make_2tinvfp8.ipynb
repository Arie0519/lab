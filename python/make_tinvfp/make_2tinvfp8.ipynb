{
 "cells": [
  {
   "cell_type": "code",
   "execution_count": 5,
   "metadata": {
    "executionInfo": {
     "elapsed": 680,
     "status": "ok",
     "timestamp": 1708042512638,
     "user": {
      "displayName": "介川友喜",
      "userId": "17499639928451463634"
     },
     "user_tz": -540
    },
    "id": "x8v84w97gImk"
   },
   "outputs": [],
   "source": [
    "# ライブラリのインポート\n",
    "import pandas as pd\n",
    "import numpy as np"
   ]
  },
  {
   "cell_type": "code",
   "execution_count": 6,
   "metadata": {
    "executionInfo": {
     "elapsed": 368,
     "status": "ok",
     "timestamp": 1708042780975,
     "user": {
      "displayName": "介川友喜",
      "userId": "17499639928451463634"
     },
     "user_tz": -540
    },
    "id": "vYQEnfgAgKmJ"
   },
   "outputs": [],
   "source": [
    "# 入力ファイル名\n",
    "input_file = R'C:/Users/sukegawa/Desktop/study/datasets/invfp/invfp8_1m.csv'\n",
    "# 出力ファイル名\n",
    "output_file = R'C:/Users/sukegawa/Desktop/study/datasets/tinvfp/2tinvfp8_1m.csv'"
   ]
  },
  {
   "cell_type": "code",
   "execution_count": 7,
   "metadata": {
    "executionInfo": {
     "elapsed": 309,
     "status": "ok",
     "timestamp": 1708042782817,
     "user": {
      "displayName": "介川友喜",
      "userId": "17499639928451463634"
     },
     "user_tz": -540
    },
    "id": "MUIAa3tngM4Q"
   },
   "outputs": [],
   "source": [
    "# データの読み込み\n",
    "data = pd.read_csv(input_file)"
   ]
  },
  {
   "cell_type": "code",
   "execution_count": 8,
   "metadata": {
    "executionInfo": {
     "elapsed": 553,
     "status": "ok",
     "timestamp": 1708042786749,
     "user": {
      "displayName": "介川友喜",
      "userId": "17499639928451463634"
     },
     "user_tz": -540
    },
    "id": "YZkehVhagQf2"
   },
   "outputs": [],
   "source": [
    "# 閾値\n",
    "threshold = 20\n",
    "\n",
    "# 自己結合を行い、2時点の全ての点の組み合わせを作成\n",
    "combined = pd.merge(data, data, how='cross', suffixes=('', '_2'))\n",
    "\n",
    "# 距離の計算\n",
    "combined['dx'] = combined['x_2'] - combined['x']\n",
    "combined['dy'] = combined['y_2'] - combined['y']\n",
    "combined['distance'] = np.sqrt(combined['dx']**2 + combined['dy']**2)\n",
    "\n",
    "# 閾値以下の距離のみ残す\n",
    "result = combined[combined['distance'] <= threshold]\n",
    "\n",
    "# 新しいデータの列を整理\n",
    "new_columns = ([col for col in result.columns if not col.endswith('_2')] +\n",
    "               [col for col in result.columns if col.endswith('_2')])\n",
    "result = result[new_columns]\n",
    "\n",
    "# '_2'で終わる列名から'_2'を削除\n",
    "# result.columns = [col[:-2] if col.endswith('_2') else col for col in result.columns]\n",
    "\n",
    "# 結果をCSVファイルに保存\n",
    "result.to_csv(output_file, index=False)"
   ]
  }
 ],
 "metadata": {
  "colab": {
   "authorship_tag": "ABX9TyP22b+ARsDcCQCsJP3d8UJ1",
   "provenance": []
  },
  "kernelspec": {
   "display_name": "Python 3 (ipykernel)",
   "language": "python",
   "name": "python3"
  },
  "language_info": {
   "codemirror_mode": {
    "name": "ipython",
    "version": 3
   },
   "file_extension": ".py",
   "mimetype": "text/x-python",
   "name": "python",
   "nbconvert_exporter": "python",
   "pygments_lexer": "ipython3",
   "version": "3.8.19"
  }
 },
 "nbformat": 4,
 "nbformat_minor": 4
}
