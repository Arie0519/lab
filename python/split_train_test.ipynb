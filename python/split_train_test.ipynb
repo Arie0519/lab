{
 "cells": [
  {
   "cell_type": "code",
   "execution_count": 1,
   "metadata": {
    "executionInfo": {
     "elapsed": 715,
     "status": "ok",
     "timestamp": 1708042382317,
     "user": {
      "displayName": "介川友喜",
      "userId": "17499639928451463634"
     },
     "user_tz": -540
    },
    "id": "W0AbJqjoFBy2"
   },
   "outputs": [],
   "source": [
    "import pandas as pd"
   ]
  },
  {
   "cell_type": "code",
   "execution_count": 11,
   "metadata": {
    "executionInfo": {
     "elapsed": 324,
     "status": "ok",
     "timestamp": 1708042388685,
     "user": {
      "displayName": "介川友喜",
      "userId": "17499639928451463634"
     },
     "user_tz": -540
    },
    "id": "nhCI2fKKFOcV"
   },
   "outputs": [],
   "source": [
    "# 入力,出力ファイル名\n",
    "input_file = R'C:/Users/sukegawa/Desktop/study/datasets/invfp/invfp_50.csv'\n",
    "train_file = R'C:/Users/sukegawa/Desktop/study/datasets/invfp/invfp_train0.csv'\n",
    "test_file = R'C:/Users/sukegawa/Desktop/study/datasets/invfp/invfp_test0.csv'"
   ]
  },
  {
   "cell_type": "code",
   "execution_count": 12,
   "metadata": {
    "executionInfo": {
     "elapsed": 416,
     "status": "ok",
     "timestamp": 1708042392465,
     "user": {
      "displayName": "介川友喜",
      "userId": "17499639928451463634"
     },
     "user_tz": -540
    },
    "id": "7iJtF2HOMJt3"
   },
   "outputs": [],
   "source": [
    "# 訓練，テストデータの数\n",
    "num_train = 45\n",
    "num_test = 5"
   ]
  },
  {
   "cell_type": "code",
   "execution_count": 13,
   "metadata": {
    "executionInfo": {
     "elapsed": 673,
     "status": "ok",
     "timestamp": 1708042406284,
     "user": {
      "displayName": "介川友喜",
      "userId": "17499639928451463634"
     },
     "user_tz": -540
    },
    "id": "UJh9cetmGINL"
   },
   "outputs": [],
   "source": [
    "# CSVファイルからデータを読み込む\n",
    "data = pd.read_csv(input_file)\n",
    "\n",
    "# 変位dx=0とdy=0を追加(初期位置なので0)\n",
    "data.insert(len(data.columns) - 1, 'dx', 0)\n",
    "data.insert(len(data.columns) - 1, 'dy', 0)\n",
    "\n",
    "# 列名を変更 RSSI_?からRSSI?へ,また時系列1番目として_1をつける\n",
    "data.columns = data.columns.str.replace('RSSI_','RSSI')\n",
    "data.columns = data.columns + \"_1\"\n",
    "\n",
    "# 'x座標'と'y座標'が同じ行をグループとしてランダムにテストデータを選ぶ\n",
    "test_data = data.groupby(['x_1', 'y_1'], group_keys=False).apply(lambda x: x.sample(n=num_test, random_state=42))\n",
    "\n",
    "# 残ったデータはテストデータを除いたもの\n",
    "train_data = data.drop(test_data.index)\n",
    "\n",
    "# 出力\n",
    "test_data.to_csv(test_file, index=False)\n",
    "train_data.to_csv(train_file, index=False)"
   ]
  }
 ],
 "metadata": {
  "colab": {
   "authorship_tag": "ABX9TyNbEJ+SIqusGXdHb5O9K7kj",
   "provenance": []
  },
  "kernelspec": {
   "display_name": "Python 3 (ipykernel)",
   "language": "python",
   "name": "python3"
  },
  "language_info": {
   "codemirror_mode": {
    "name": "ipython",
    "version": 3
   },
   "file_extension": ".py",
   "mimetype": "text/x-python",
   "name": "python",
   "nbconvert_exporter": "python",
   "pygments_lexer": "ipython3",
   "version": "3.8.19"
  }
 },
 "nbformat": 4,
 "nbformat_minor": 4
}
